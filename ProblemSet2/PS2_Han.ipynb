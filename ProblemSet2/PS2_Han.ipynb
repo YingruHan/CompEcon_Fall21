{
 "cells": [
  {
   "cell_type": "markdown",
   "id": "558d40df",
   "metadata": {},
   "source": [
    "# Chaper 2"
   ]
  },
  {
   "cell_type": "markdown",
   "id": "021af046",
   "metadata": {},
   "source": [
    "## Problem 1"
   ]
  },
  {
   "cell_type": "code",
   "execution_count": 11,
   "id": "ec691134",
   "metadata": {},
   "outputs": [],
   "source": [
    "my_list=[1,3,5,7,9]\n",
    "def stats(L):\n",
    "    return max(L),min(L), (sum(L)/len(L))"
   ]
  },
  {
   "cell_type": "code",
   "execution_count": 9,
   "id": "eb119bf8",
   "metadata": {},
   "outputs": [
    {
     "data": {
      "text/plain": [
       "(9, 1, 5.0)"
      ]
     },
     "execution_count": 9,
     "metadata": {},
     "output_type": "execute_result"
    }
   ],
   "source": [
    "stats(my_list)"
   ]
  },
  {
   "cell_type": "markdown",
   "id": "4f00a6d7",
   "metadata": {},
   "source": [
    "## Problem 2"
   ]
  },
  {
   "cell_type": "code",
   "execution_count": 26,
   "id": "ad6d4092",
   "metadata": {},
   "outputs": [],
   "source": [
    "#Problem 2\n",
    "myint = 7\n",
    "mystr = \"seven\"\n",
    "mylist = [1, 2, 3]\n",
    "mytuple = ('apple', 'orange','pear')\n",
    "myset = {1, 2, 3}"
   ]
  },
  {
   "cell_type": "code",
   "execution_count": 27,
   "id": "5edfb927",
   "metadata": {},
   "outputs": [],
   "source": [
    "myint_=myint\n",
    "mystr_=mystr\n",
    "mylist_=mylist\n",
    "mytuple_=mytuple\n",
    "myset_=myset"
   ]
  },
  {
   "cell_type": "code",
   "execution_count": 28,
   "id": "22eabb0f",
   "metadata": {},
   "outputs": [],
   "source": [
    "myint = 8\n",
    "mystr = \"eight\"\n",
    "mylist[2] = 3\n",
    "mytuple += (1,)\n",
    "myset.add(4)"
   ]
  },
  {
   "cell_type": "code",
   "execution_count": 29,
   "id": "30db1505",
   "metadata": {},
   "outputs": [
    {
     "data": {
      "text/plain": [
       "False"
      ]
     },
     "execution_count": 29,
     "metadata": {},
     "output_type": "execute_result"
    }
   ],
   "source": [
    "myint == myint_\n",
    "#int is immutable"
   ]
  },
  {
   "cell_type": "code",
   "execution_count": 30,
   "id": "dd5b2a7a",
   "metadata": {},
   "outputs": [
    {
     "data": {
      "text/plain": [
       "False"
      ]
     },
     "execution_count": 30,
     "metadata": {},
     "output_type": "execute_result"
    }
   ],
   "source": [
    "mystr == mystr_\n",
    "#str is immutable"
   ]
  },
  {
   "cell_type": "code",
   "execution_count": 31,
   "id": "776bba4f",
   "metadata": {},
   "outputs": [
    {
     "data": {
      "text/plain": [
       "True"
      ]
     },
     "execution_count": 31,
     "metadata": {},
     "output_type": "execute_result"
    }
   ],
   "source": [
    "mylist == mylist_\n",
    "#list is mutable"
   ]
  },
  {
   "cell_type": "code",
   "execution_count": 32,
   "id": "2ff8f468",
   "metadata": {},
   "outputs": [
    {
     "data": {
      "text/plain": [
       "False"
      ]
     },
     "execution_count": 32,
     "metadata": {},
     "output_type": "execute_result"
    }
   ],
   "source": [
    "mytuple == mytuple_\n",
    "#tuple is immutable"
   ]
  },
  {
   "cell_type": "code",
   "execution_count": 33,
   "id": "c13f9b1a",
   "metadata": {},
   "outputs": [
    {
     "data": {
      "text/plain": [
       "True"
      ]
     },
     "execution_count": 33,
     "metadata": {},
     "output_type": "execute_result"
    }
   ],
   "source": [
    "myset == myset_\n",
    "#set is mutable"
   ]
  },
  {
   "cell_type": "markdown",
   "id": "930ee2ce",
   "metadata": {},
   "source": [
    "## Problem 3"
   ]
  },
  {
   "cell_type": "code",
   "execution_count": 58,
   "id": "ca84e17e",
   "metadata": {},
   "outputs": [],
   "source": [
    "import calculator"
   ]
  },
  {
   "cell_type": "code",
   "execution_count": 62,
   "id": "6c420d1e",
   "metadata": {},
   "outputs": [],
   "source": [
    "def hypotenuse(a, b):\n",
    "    length = sqrt(add(a,b)*add(a,b)-2*product(a,b))\n",
    "    return length"
   ]
  },
  {
   "cell_type": "code",
   "execution_count": 63,
   "id": "16618ff2",
   "metadata": {},
   "outputs": [
    {
     "data": {
      "text/plain": [
       "5.0"
      ]
     },
     "execution_count": 63,
     "metadata": {},
     "output_type": "execute_result"
    }
   ],
   "source": [
    "hypotenuse(3, 4)"
   ]
  },
  {
   "cell_type": "markdown",
   "id": "02ab1811",
   "metadata": {},
   "source": [
    "# Chapter 3"
   ]
  },
  {
   "cell_type": "markdown",
   "id": "856da6bc",
   "metadata": {},
   "source": [
    "## Problem 1"
   ]
  },
  {
   "cell_type": "code",
   "execution_count": 41,
   "id": "b430cbec",
   "metadata": {},
   "outputs": [],
   "source": [
    "class Backpack:\n",
    "    \"\"\"A Backpack object class. Has a name, color, size cap, and a list of contents.\n",
    "    \n",
    "    Attributes:\n",
    "        name (str): name of owner\n",
    "        color(str): name of the color\n",
    "        max_size (int): max number of items that can fit the jetpack\n",
    "        contents (list): the contents of the jetpack\n",
    "    \"\"\"\n",
    "    def __init__(self, name, color, max_size=5):\n",
    "        \"\"\"set the name, color, size cap, and initialize an empty list\n",
    "        of contents\n",
    "        \"\"\"\n",
    "        self.name=name\n",
    "        self.color=color\n",
    "        self.max_size=max_size\n",
    "        self.contents=[]\n",
    "    def put(self, item):\n",
    "        \"\"\"add item to the backpack's list of contents if the \n",
    "        number of contents is smaller than the size cap; otherwise,\n",
    "        report no room\"\"\"\n",
    "        if len(self.contents) < self.max_size:\n",
    "            self.contents.append(item)\n",
    "        else:\n",
    "            print(\"No Room!\")\n",
    "    def take(self, item):\n",
    "        \"\"\"take item to the backpack's list of contents\"\"\"\n",
    "        self.contents.remove(item)\n",
    "    def dump(self):\n",
    "        \"\"\"empty the list of contents\"\"\"\n",
    "        self.contents=[]"
   ]
  },
  {
   "cell_type": "code",
   "execution_count": 80,
   "id": "e38d2b63",
   "metadata": {},
   "outputs": [],
   "source": [
    "my_backpack=Backpack(\"Ruby\",\"red\")"
   ]
  },
  {
   "cell_type": "code",
   "execution_count": 69,
   "id": "609b7625",
   "metadata": {},
   "outputs": [
    {
     "data": {
      "text/plain": [
       "__main__.Backpack"
      ]
     },
     "execution_count": 69,
     "metadata": {},
     "output_type": "execute_result"
    }
   ],
   "source": [
    "type(my_backpack)"
   ]
  },
  {
   "cell_type": "code",
   "execution_count": 81,
   "id": "fa9b8130",
   "metadata": {},
   "outputs": [
    {
     "name": "stdout",
     "output_type": "stream",
     "text": [
      "Ruby red 5\n"
     ]
    }
   ],
   "source": [
    "print(my_backpack.name, my_backpack.color, my_backpack.max_size)"
   ]
  },
  {
   "cell_type": "code",
   "execution_count": 101,
   "id": "bb664926",
   "metadata": {},
   "outputs": [],
   "source": [
    "def test_backpack():\n",
    "    testpack=Backpack(\"Barry\",\"black\")\n",
    "    if testpack.name != \"Barry\":\n",
    "        print(\"Backpack.name assigned incorrectly\")\n",
    "    for item in ['pencil','pen','paper','computer']:\n",
    "        testpack.put(item)\n",
    "    print('Contents:', testpack.contents)"
   ]
  },
  {
   "cell_type": "code",
   "execution_count": 102,
   "id": "57d059cf",
   "metadata": {},
   "outputs": [
    {
     "name": "stdout",
     "output_type": "stream",
     "text": [
      "Contents: ['pencil', 'pen', 'paper', 'computer']\n"
     ]
    }
   ],
   "source": [
    "test_backpack()"
   ]
  },
  {
   "cell_type": "markdown",
   "id": "0bbf24d2",
   "metadata": {},
   "source": [
    "## Problem 2"
   ]
  },
  {
   "cell_type": "code",
   "execution_count": 70,
   "id": "37e338e5",
   "metadata": {},
   "outputs": [],
   "source": [
    "class Jetpack(Backpack):\n",
    "    \"\"\"A jetpack object class. Inherits from the backpack class.\n",
    "    A jetpack is smaller than a backpack and can be used to fly.\n",
    "    \n",
    "    Attributes:\n",
    "        name (str): name of owner\n",
    "        color(str): name of the color\n",
    "        max_size (int): max number of items that can fit the jetpack\n",
    "        contents (list): the contents of the jetpack\n",
    "        fuel (int): the amount of fuel that the jetpack contains\n",
    "    \"\"\"\n",
    "    def __init__(self, name, color, max_size=2, fuel=10):\n",
    "        \"\"\"Use the Backpack constructor to initialize the name, color, max_size.\n",
    "        Override the constructor so that it also initialize the fuel attribute.\n",
    "        By default, the jetpack can only hold 2 items and 10 units of fuel.\n",
    "        \"\"\"\n",
    "        self.fuel=fuel\n",
    "        Backpack.__init__(self, name, color, max_size)\n",
    "    def fly(self, item):\n",
    "        \"\"\"define a new method fly by decrementing the amount of fuel\n",
    "        by the amount used in fly. Or print out \"Not enough fuel\" if the\n",
    "        used amount is larger than the original fuel cap\n",
    "        \"\"\"\n",
    "        if item <= self.fuel:\n",
    "            self.fuel=self.fuel-item\n",
    "        else:\n",
    "            print('Not enough fuel!')\n",
    "    def dump(self):\n",
    "        \"\"\"override the dump method fly so that both the contents and the\n",
    "        fuel cap are emptied\n",
    "        \"\"\"\n",
    "        self.contents=[]\n",
    "        self.fuel=[]"
   ]
  },
  {
   "cell_type": "code",
   "execution_count": 75,
   "id": "a0e100ec",
   "metadata": {},
   "outputs": [
    {
     "name": "stdout",
     "output_type": "stream",
     "text": [
      "2\n",
      "1\n",
      "[]\n"
     ]
    }
   ],
   "source": [
    "my_backpack2=Jetpack(\"Ruby\",\"red\")\n",
    "print(my_backpack2.max_size)\n",
    "my_backpack2.fly(9)\n",
    "print(my_backpack2.fuel)\n",
    "my_backpack2.dump()\n",
    "print(my_backpack2.contents)"
   ]
  },
  {
   "cell_type": "markdown",
   "id": "7cd366ea",
   "metadata": {},
   "source": [
    "# Chapter 4"
   ]
  },
  {
   "cell_type": "markdown",
   "id": "ea28fd83",
   "metadata": {},
   "source": [
    "## Problem 1"
   ]
  },
  {
   "cell_type": "code",
   "execution_count": 2,
   "id": "61dd4c4a",
   "metadata": {},
   "outputs": [],
   "source": [
    "import numpy as np"
   ]
  },
  {
   "cell_type": "code",
   "execution_count": 103,
   "id": "383c1292",
   "metadata": {},
   "outputs": [],
   "source": [
    "def ma_product(a, b, c, d, e):\n",
    "    A = np.array([a,b])\n",
    "    B = np.array([c,d,e])\n",
    "    return np.dot(A, B)"
   ]
  },
  {
   "cell_type": "code",
   "execution_count": 104,
   "id": "57cd08b7",
   "metadata": {},
   "outputs": [],
   "source": [
    "a = [3, -1, 4]\n",
    "b = [1, 5, -9]\n",
    "c = [2, 6, -5, 3]\n",
    "d = [5, -8, 9, 7]\n",
    "e = [9, -3, -2, -3]"
   ]
  },
  {
   "cell_type": "code",
   "execution_count": 105,
   "id": "ba5e553b",
   "metadata": {},
   "outputs": [
    {
     "data": {
      "text/plain": [
       "array([[ 37,  14, -32, -10],\n",
       "       [-54,  -7,  58,  65]])"
      ]
     },
     "execution_count": 105,
     "metadata": {},
     "output_type": "execute_result"
    }
   ],
   "source": [
    "ma_product(a, b, c, d, e)"
   ]
  },
  {
   "cell_type": "markdown",
   "id": "d0e16c86",
   "metadata": {},
   "source": [
    "## Problem 2"
   ]
  },
  {
   "cell_type": "code",
   "execution_count": 112,
   "id": "7df9450a",
   "metadata": {},
   "outputs": [],
   "source": [
    "def cal_ma(x, y, z):\n",
    "    A = np.array([x, y, z])\n",
    "    return -np.dot(np.dot(A, A),A)+9*np.dot(A,A)-15*A"
   ]
  },
  {
   "cell_type": "code",
   "execution_count": 113,
   "id": "a88d9f5a",
   "metadata": {},
   "outputs": [],
   "source": [
    "x = [3, 1, 4]\n",
    "y = [1, 5, 9]\n",
    "z = [-5, 3, 1]"
   ]
  },
  {
   "cell_type": "code",
   "execution_count": 114,
   "id": "d6d1827c",
   "metadata": {},
   "outputs": [
    {
     "data": {
      "text/plain": [
       "array([[0, 0, 0],\n",
       "       [0, 0, 0],\n",
       "       [0, 0, 0]])"
      ]
     },
     "execution_count": 114,
     "metadata": {},
     "output_type": "execute_result"
    }
   ],
   "source": [
    "cal_ma(x,y,z)"
   ]
  },
  {
   "cell_type": "markdown",
   "id": "13d91266",
   "metadata": {},
   "source": [
    "## Problem 5"
   ]
  },
  {
   "cell_type": "code",
   "execution_count": 29,
   "id": "fed17676",
   "metadata": {},
   "outputs": [
    {
     "data": {
      "text/plain": [
       "(array([[0, 2, 4],\n",
       "        [1, 3, 5]]),\n",
       " array([[3., 0., 0.],\n",
       "        [3., 3., 0.],\n",
       "        [3., 3., 3.]]),\n",
       " array([[-2., -0., -0.],\n",
       "        [-0., -2., -0.],\n",
       "        [-0., -0., -2.]]))"
      ]
     },
     "execution_count": 29,
     "metadata": {},
     "output_type": "execute_result"
    }
   ],
   "source": [
    "def make_matrix(f, g, h):\n",
    "    global A\n",
    "    A = np.arange(f).reshape((3, 2)).T\n",
    "    global B\n",
    "    B = np.tril(np.full_like(np.eye(3), g))\n",
    "    global C\n",
    "    C = h * np.eye(3)\n",
    "    return A, B, C \n",
    "  \n",
    "f = 6\n",
    "g = 3\n",
    "h = -2\n",
    "\n",
    "make_matrix(f, g, h)"
   ]
  },
  {
   "cell_type": "code",
   "execution_count": 38,
   "id": "224ec386",
   "metadata": {},
   "outputs": [],
   "source": [
    "def stacking(A, B, C):\n",
    "    make_matrix(f, g, h)\n",
    "    first_col = np.vstack((np.zeros((2,3)), A, B))\n",
    "    second_col = np.vstack((A.T, np.zeros((2,2)), np.zeros((2,2))))\n",
    "    third_col = np.vstack((np.eye(3), np.zeros((1, 3)), C))\n",
    "    return np.hstack((first_col, second_col, third_col))"
   ]
  },
  {
   "cell_type": "code",
   "execution_count": 39,
   "id": "bcc7cb34",
   "metadata": {},
   "outputs": [
    {
     "data": {
      "text/plain": [
       "array([[ 0.,  0.,  0.,  0.,  1.,  1.,  0.,  0.],\n",
       "       [ 0.,  0.,  0.,  2.,  3.,  0.,  1.,  0.],\n",
       "       [ 0.,  2.,  4.,  4.,  5.,  0.,  0.,  1.],\n",
       "       [ 1.,  3.,  5.,  0.,  0.,  0.,  0.,  0.],\n",
       "       [ 3.,  0.,  0.,  0.,  0., -2., -0., -0.],\n",
       "       [ 3.,  3.,  0.,  0.,  0., -0., -2., -0.],\n",
       "       [ 3.,  3.,  3.,  0.,  0., -0., -0., -2.]])"
      ]
     },
     "execution_count": 39,
     "metadata": {},
     "output_type": "execute_result"
    }
   ],
   "source": [
    "stacking (A, B, C)"
   ]
  }
 ],
 "metadata": {
  "kernelspec": {
   "display_name": "Python 3",
   "language": "python",
   "name": "python3"
  },
  "language_info": {
   "codemirror_mode": {
    "name": "ipython",
    "version": 3
   },
   "file_extension": ".py",
   "mimetype": "text/x-python",
   "name": "python",
   "nbconvert_exporter": "python",
   "pygments_lexer": "ipython3",
   "version": "3.8.8"
  }
 },
 "nbformat": 4,
 "nbformat_minor": 5
}
